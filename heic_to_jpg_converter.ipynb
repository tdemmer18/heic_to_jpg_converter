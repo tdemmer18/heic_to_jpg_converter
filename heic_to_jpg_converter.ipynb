{
 "cells": [
  {
   "cell_type": "markdown",
   "id": "d76bbd35",
   "metadata": {},
   "source": [
    "### Convert photos with .heic to .jpg"
   ]
  },
  {
   "cell_type": "code",
   "execution_count": 1,
   "id": "2bf22da8",
   "metadata": {},
   "outputs": [],
   "source": [
    "# pip install wand\n",
    "# brew install freetype imagemagick\n",
    "\n",
    "from wand.image import Image\n",
    "import os"
   ]
  },
  {
   "cell_type": "code",
   "execution_count": 15,
   "id": "b88cf94f",
   "metadata": {},
   "outputs": [],
   "source": [
    "SourceFolder=\"heic-folder/\"\n",
    "TargetFolder=\"jpg-folder/\"\n",
    "\n",
    "for file in os.listdir(SourceFolder):\n",
    "    SourceFile=SourceFolder + \"/\" + file\n",
    "    TargetFile=TargetFolder + \"/\" + file.replace(\".HEIC\",\".JPG\")\n",
    "    \n",
    "    img=Image(filename=SourceFile)\n",
    "    img.format='jpg'\n",
    "    img.save(filename=TargetFile)\n",
    "    img.close()"
   ]
  },
  {
   "cell_type": "code",
   "execution_count": null,
   "id": "62ae8c77",
   "metadata": {},
   "outputs": [],
   "source": []
  }
 ],
 "metadata": {
  "kernelspec": {
   "display_name": "Python 3 (ipykernel)",
   "language": "python",
   "name": "python3"
  },
  "language_info": {
   "codemirror_mode": {
    "name": "ipython",
    "version": 3
   },
   "file_extension": ".py",
   "mimetype": "text/x-python",
   "name": "python",
   "nbconvert_exporter": "python",
   "pygments_lexer": "ipython3",
   "version": "3.9.9"
  }
 },
 "nbformat": 4,
 "nbformat_minor": 5
}
